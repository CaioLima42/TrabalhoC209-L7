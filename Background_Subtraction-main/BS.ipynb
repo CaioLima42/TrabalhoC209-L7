{
 "cells": [
  {
   "cell_type": "code",
   "execution_count": 18,
   "id": "272b89e8",
   "metadata": {},
   "outputs": [
    {
     "name": "stdout",
     "output_type": "stream",
     "text": [
      "True\n"
     ]
    }
   ],
   "source": [
    "import numpy as np\n",
    "import cv2\n",
    "\n",
    "cap = cv2.VideoCapture(\"camera.mp4\") # converte o video para uma variavel que sera usada\n",
    "ret, first = cap.read() #pega o primeiro frame para servir de base de fundo a ser remolvido\n",
    "\n",
    "print(ret)\n",
    "\n",
    "first_gray = cv2.cvtColor(first, cv2.COLOR_BGR2GRAY) #converte o primeiro frame para escala de cinza\n",
    "first_gray = cv2.GaussianBlur(first_gray, (21, 21), 0) # borra o primeiro frame\n",
    "while True:\n",
    "    ret, frame = cap.read() # pega o frame do video\n",
    "\n",
    "    if not ret:\n",
    "        break\n",
    "\n",
    "    gray = cv2.cvtColor(frame, cv2.COLOR_BGR2GRAY) #converte o frame q esta passando apra escala de cinza\n",
    " \n",
    "    gray = cv2.GaussianBlur(gray, (21, 21), 0) # borra a imagem, para suaviasar as cores e evitar ruidos e deixar mais evidente\n",
    "                                               # onde foi capturado o movimento\n",
    "\n",
    "    difference = cv2.absdiff(gray, first_gray) # remolve o fundo comparando a primeira imagem com o frame atual\n",
    "\n",
    "    thresh = cv2.threshold(difference, 25, 255, cv2.THRESH_BINARY)[1] # converte a imagem para binario que sera mostrada\n",
    "    \n",
    "    thresh = cv2.dilate(thresh, None, iterations=2) #retorna uma imagem com tamanho aumentado de sombra branca na imagem,\n",
    "                                                    #destacando melhor as partes com o movimento sendo capturado\n",
    "\n",
    "    cv2.imshow(\"thresh\", thresh) # exibe o video com o fundo remolvido\n",
    "    key = cv2.waitKey(1) & 0xFF # valor para sair quando precionado q\n",
    "\n",
    "    if key == ord(\"q\"): # fecha o video quando precionado q\n",
    "        break\n",
    "\n",
    "cap.release()\n",
    "cv2.destroyAllWindows() # fechar o video quando este acabar"
   ]
  },
  {
   "cell_type": "code",
   "execution_count": 17,
   "id": "2814dbce",
   "metadata": {},
   "outputs": [],
   "source": [
    "# Python code for Background subtraction using OpenCV\n",
    "import numpy as np\n",
    "import cv2\n",
    " \n",
    "cap = cv2.VideoCapture('Camera.mp4') # converte o video par auma variavel que sera\n",
    "fgbg = cv2.createBackgroundSubtractorMOG2() # funcao retira o fundo da imagem\n",
    " \n",
    "while(1):\n",
    "    ret, frame = cap.read() # pega o frame do video\n",
    "\n",
    "    if not ret:\n",
    "        break\n",
    "    \n",
    "    fgmask = fgbg.apply(frame) # retira o fundo dos frames \n",
    "  \n",
    "    cv2.imshow('fgmask', fgmask) # exibicao do video com o deteccao de movimento\n",
    "\n",
    "    k = cv2.waitKey(30) & 0xff # valor para fechar o video quando precioando o botao esc\n",
    "    if k == 27: # fecha o video quando precionado esc\n",
    "        break\n",
    "    k = cv2.waitKey(1) & 0xFF  # valor para fechar o video quando precioando o botao q\n",
    "    # if the `q` key is pressed, break from the loop\n",
    "    if k == ord(\"q\"): # fecha o video quando precionado q\n",
    "        break\n",
    "    \n",
    "cap.release()\n",
    "cv2.destroyAllWindows() # fechar o video quando este acabar"
   ]
  },
  {
   "cell_type": "code",
   "execution_count": null,
   "id": "ea40eb93",
   "metadata": {},
   "outputs": [],
   "source": []
  }
 ],
 "metadata": {
  "kernelspec": {
   "display_name": "Python 3.10.8 64-bit (microsoft store)",
   "language": "python",
   "name": "python3"
  },
  "language_info": {
   "codemirror_mode": {
    "name": "ipython",
    "version": 3
   },
   "file_extension": ".py",
   "mimetype": "text/x-python",
   "name": "python",
   "nbconvert_exporter": "python",
   "pygments_lexer": "ipython3",
   "version": "3.10.8"
  },
  "vscode": {
   "interpreter": {
    "hash": "f8ca15d83b6fb72cece3edcf60f6aa40d2cbdeb5c60e0f188ff8c7c65828fd00"
   }
  }
 },
 "nbformat": 4,
 "nbformat_minor": 5
}
